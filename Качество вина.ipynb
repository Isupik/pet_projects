{
 "cells": [
  {
   "cell_type": "markdown",
   "id": "ee20bd80",
   "metadata": {},
   "source": [
    "Датасет: https://www.kaggle.com/datasets/rajyellow46/wine-quality"
   ]
  },
  {
   "cell_type": "markdown",
   "id": "6b6a6014",
   "metadata": {},
   "source": [
    "# Качество вина"
   ]
  },
  {
   "cell_type": "markdown",
   "id": "4a9fe7e5",
   "metadata": {},
   "source": [
    "Набор данных был загружен из репозитория машинного обучения UCI.\n",
    "\n",
    "Два набора данных относятся к красному и белому вариантам португальского вина «Виньо Верде». Ссылка [Кортез и др., 2009]. Из соображений конфиденциальности и логистики доступны только физико-химические (входные) и сенсорные (выходные) переменные (например, отсутствуют данные о сортах винограда, марке вина, отпускной цене вина и т. д.).\n",
    "\n",
    "Эти наборы данных можно рассматривать как задачи классификации или регрессии. Классы упорядочены и не сбалансированы (например, нормальных вин намного больше, чем отличных или плохих). Алгоритмы обнаружения выбросов можно использовать для обнаружения нескольких отличных или плохих вин. Кроме того, мы не уверены, все ли входные переменные актуальны. Поэтому было бы интересно протестировать методы выбора функций.\n",
    "\n",
    "Два набора данных были объединены, и несколько значений были удалены случайным образом.\n",
    "\n",
    "**Цель исследования:** восстановить удаленные данные.\n",
    "\n",
    "**Ход исследования:**\n",
    "1. Обзор данных\n",
    "2. Предобработка данных\n",
    "3. Проверка гипотез"
   ]
  },
  {
   "cell_type": "markdown",
   "id": "21410187",
   "metadata": {},
   "source": [
    "## 1. Обзор данных"
   ]
  },
  {
   "cell_type": "code",
   "execution_count": 1,
   "id": "1963f87a",
   "metadata": {},
   "outputs": [],
   "source": [
    "#импортируем библиотеки\n",
    "import os\n",
    "import pandas as pd"
   ]
  },
  {
   "cell_type": "code",
   "execution_count": 2,
   "id": "068fc8fa",
   "metadata": {},
   "outputs": [],
   "source": [
    "#загрузка файла с kaggle\n",
    "def load_data_from_kaggle():\n",
    "    data_path = 'wine-quality-data'\n",
    "\n",
    "    if not os.path.exists(data_path):\n",
    "        !kaggle datasets download -d rajyellow46/wine-quality        \n",
    "        with zipfile.ZipFile('wine-quality.zip', 'r') as zipp:\n",
    "            zipp.extractall(data_path)\n",
    "\n",
    "    train_path = \"\\\\\".join([data_path, os.listdir(data_path)[0]])\n",
    "    \n",
    "    return pd.read_csv(train_path)"
   ]
  },
  {
   "cell_type": "code",
   "execution_count": 3,
   "id": "41838f28",
   "metadata": {},
   "outputs": [
    {
     "data": {
      "text/html": [
       "<div>\n",
       "<style scoped>\n",
       "    .dataframe tbody tr th:only-of-type {\n",
       "        vertical-align: middle;\n",
       "    }\n",
       "\n",
       "    .dataframe tbody tr th {\n",
       "        vertical-align: top;\n",
       "    }\n",
       "\n",
       "    .dataframe thead th {\n",
       "        text-align: right;\n",
       "    }\n",
       "</style>\n",
       "<table border=\"1\" class=\"dataframe\">\n",
       "  <thead>\n",
       "    <tr style=\"text-align: right;\">\n",
       "      <th></th>\n",
       "      <th>type</th>\n",
       "      <th>fixed acidity</th>\n",
       "      <th>volatile acidity</th>\n",
       "      <th>citric acid</th>\n",
       "      <th>residual sugar</th>\n",
       "      <th>chlorides</th>\n",
       "      <th>free sulfur dioxide</th>\n",
       "      <th>total sulfur dioxide</th>\n",
       "      <th>density</th>\n",
       "      <th>pH</th>\n",
       "      <th>sulphates</th>\n",
       "      <th>alcohol</th>\n",
       "      <th>quality</th>\n",
       "    </tr>\n",
       "  </thead>\n",
       "  <tbody>\n",
       "    <tr>\n",
       "      <th>0</th>\n",
       "      <td>white</td>\n",
       "      <td>7.0</td>\n",
       "      <td>0.27</td>\n",
       "      <td>0.36</td>\n",
       "      <td>20.7</td>\n",
       "      <td>0.045</td>\n",
       "      <td>45.0</td>\n",
       "      <td>170.0</td>\n",
       "      <td>1.0010</td>\n",
       "      <td>3.00</td>\n",
       "      <td>0.45</td>\n",
       "      <td>8.8</td>\n",
       "      <td>6</td>\n",
       "    </tr>\n",
       "    <tr>\n",
       "      <th>1</th>\n",
       "      <td>white</td>\n",
       "      <td>6.3</td>\n",
       "      <td>0.30</td>\n",
       "      <td>0.34</td>\n",
       "      <td>1.6</td>\n",
       "      <td>0.049</td>\n",
       "      <td>14.0</td>\n",
       "      <td>132.0</td>\n",
       "      <td>0.9940</td>\n",
       "      <td>3.30</td>\n",
       "      <td>0.49</td>\n",
       "      <td>9.5</td>\n",
       "      <td>6</td>\n",
       "    </tr>\n",
       "    <tr>\n",
       "      <th>2</th>\n",
       "      <td>white</td>\n",
       "      <td>8.1</td>\n",
       "      <td>0.28</td>\n",
       "      <td>0.40</td>\n",
       "      <td>6.9</td>\n",
       "      <td>0.050</td>\n",
       "      <td>30.0</td>\n",
       "      <td>97.0</td>\n",
       "      <td>0.9951</td>\n",
       "      <td>3.26</td>\n",
       "      <td>0.44</td>\n",
       "      <td>10.1</td>\n",
       "      <td>6</td>\n",
       "    </tr>\n",
       "    <tr>\n",
       "      <th>3</th>\n",
       "      <td>white</td>\n",
       "      <td>7.2</td>\n",
       "      <td>0.23</td>\n",
       "      <td>0.32</td>\n",
       "      <td>8.5</td>\n",
       "      <td>0.058</td>\n",
       "      <td>47.0</td>\n",
       "      <td>186.0</td>\n",
       "      <td>0.9956</td>\n",
       "      <td>3.19</td>\n",
       "      <td>0.40</td>\n",
       "      <td>9.9</td>\n",
       "      <td>6</td>\n",
       "    </tr>\n",
       "    <tr>\n",
       "      <th>4</th>\n",
       "      <td>white</td>\n",
       "      <td>7.2</td>\n",
       "      <td>0.23</td>\n",
       "      <td>0.32</td>\n",
       "      <td>8.5</td>\n",
       "      <td>0.058</td>\n",
       "      <td>47.0</td>\n",
       "      <td>186.0</td>\n",
       "      <td>0.9956</td>\n",
       "      <td>3.19</td>\n",
       "      <td>0.40</td>\n",
       "      <td>9.9</td>\n",
       "      <td>6</td>\n",
       "    </tr>\n",
       "    <tr>\n",
       "      <th>5</th>\n",
       "      <td>white</td>\n",
       "      <td>8.1</td>\n",
       "      <td>0.28</td>\n",
       "      <td>0.40</td>\n",
       "      <td>6.9</td>\n",
       "      <td>0.050</td>\n",
       "      <td>30.0</td>\n",
       "      <td>97.0</td>\n",
       "      <td>0.9951</td>\n",
       "      <td>3.26</td>\n",
       "      <td>0.44</td>\n",
       "      <td>10.1</td>\n",
       "      <td>6</td>\n",
       "    </tr>\n",
       "    <tr>\n",
       "      <th>6</th>\n",
       "      <td>white</td>\n",
       "      <td>6.2</td>\n",
       "      <td>0.32</td>\n",
       "      <td>0.16</td>\n",
       "      <td>7.0</td>\n",
       "      <td>0.045</td>\n",
       "      <td>30.0</td>\n",
       "      <td>136.0</td>\n",
       "      <td>0.9949</td>\n",
       "      <td>3.18</td>\n",
       "      <td>0.47</td>\n",
       "      <td>9.6</td>\n",
       "      <td>6</td>\n",
       "    </tr>\n",
       "    <tr>\n",
       "      <th>7</th>\n",
       "      <td>white</td>\n",
       "      <td>7.0</td>\n",
       "      <td>0.27</td>\n",
       "      <td>0.36</td>\n",
       "      <td>20.7</td>\n",
       "      <td>0.045</td>\n",
       "      <td>45.0</td>\n",
       "      <td>170.0</td>\n",
       "      <td>1.0010</td>\n",
       "      <td>3.00</td>\n",
       "      <td>0.45</td>\n",
       "      <td>8.8</td>\n",
       "      <td>6</td>\n",
       "    </tr>\n",
       "    <tr>\n",
       "      <th>8</th>\n",
       "      <td>white</td>\n",
       "      <td>6.3</td>\n",
       "      <td>0.30</td>\n",
       "      <td>0.34</td>\n",
       "      <td>1.6</td>\n",
       "      <td>0.049</td>\n",
       "      <td>14.0</td>\n",
       "      <td>132.0</td>\n",
       "      <td>0.9940</td>\n",
       "      <td>3.30</td>\n",
       "      <td>0.49</td>\n",
       "      <td>9.5</td>\n",
       "      <td>6</td>\n",
       "    </tr>\n",
       "    <tr>\n",
       "      <th>9</th>\n",
       "      <td>white</td>\n",
       "      <td>8.1</td>\n",
       "      <td>0.22</td>\n",
       "      <td>0.43</td>\n",
       "      <td>1.5</td>\n",
       "      <td>0.044</td>\n",
       "      <td>28.0</td>\n",
       "      <td>129.0</td>\n",
       "      <td>0.9938</td>\n",
       "      <td>3.22</td>\n",
       "      <td>0.45</td>\n",
       "      <td>11.0</td>\n",
       "      <td>6</td>\n",
       "    </tr>\n",
       "  </tbody>\n",
       "</table>\n",
       "</div>"
      ],
      "text/plain": [
       "    type  fixed acidity  volatile acidity  citric acid  residual sugar  \\\n",
       "0  white            7.0              0.27         0.36            20.7   \n",
       "1  white            6.3              0.30         0.34             1.6   \n",
       "2  white            8.1              0.28         0.40             6.9   \n",
       "3  white            7.2              0.23         0.32             8.5   \n",
       "4  white            7.2              0.23         0.32             8.5   \n",
       "5  white            8.1              0.28         0.40             6.9   \n",
       "6  white            6.2              0.32         0.16             7.0   \n",
       "7  white            7.0              0.27         0.36            20.7   \n",
       "8  white            6.3              0.30         0.34             1.6   \n",
       "9  white            8.1              0.22         0.43             1.5   \n",
       "\n",
       "   chlorides  free sulfur dioxide  total sulfur dioxide  density    pH  \\\n",
       "0      0.045                 45.0                 170.0   1.0010  3.00   \n",
       "1      0.049                 14.0                 132.0   0.9940  3.30   \n",
       "2      0.050                 30.0                  97.0   0.9951  3.26   \n",
       "3      0.058                 47.0                 186.0   0.9956  3.19   \n",
       "4      0.058                 47.0                 186.0   0.9956  3.19   \n",
       "5      0.050                 30.0                  97.0   0.9951  3.26   \n",
       "6      0.045                 30.0                 136.0   0.9949  3.18   \n",
       "7      0.045                 45.0                 170.0   1.0010  3.00   \n",
       "8      0.049                 14.0                 132.0   0.9940  3.30   \n",
       "9      0.044                 28.0                 129.0   0.9938  3.22   \n",
       "\n",
       "   sulphates  alcohol  quality  \n",
       "0       0.45      8.8        6  \n",
       "1       0.49      9.5        6  \n",
       "2       0.44     10.1        6  \n",
       "3       0.40      9.9        6  \n",
       "4       0.40      9.9        6  \n",
       "5       0.44     10.1        6  \n",
       "6       0.47      9.6        6  \n",
       "7       0.45      8.8        6  \n",
       "8       0.49      9.5        6  \n",
       "9       0.45     11.0        6  "
      ]
     },
     "execution_count": 3,
     "metadata": {},
     "output_type": "execute_result"
    }
   ],
   "source": [
    "#выводим на экран первые 10 строк\n",
    "df = load_data_from_kaggle()\n",
    "df.head(10)"
   ]
  },
  {
   "cell_type": "code",
   "execution_count": 4,
   "id": "07426778",
   "metadata": {},
   "outputs": [
    {
     "name": "stdout",
     "output_type": "stream",
     "text": [
      "<class 'pandas.core.frame.DataFrame'>\n",
      "RangeIndex: 6497 entries, 0 to 6496\n",
      "Data columns (total 13 columns):\n",
      " #   Column                Non-Null Count  Dtype  \n",
      "---  ------                --------------  -----  \n",
      " 0   type                  6497 non-null   object \n",
      " 1   fixed acidity         6487 non-null   float64\n",
      " 2   volatile acidity      6489 non-null   float64\n",
      " 3   citric acid           6494 non-null   float64\n",
      " 4   residual sugar        6495 non-null   float64\n",
      " 5   chlorides             6495 non-null   float64\n",
      " 6   free sulfur dioxide   6497 non-null   float64\n",
      " 7   total sulfur dioxide  6497 non-null   float64\n",
      " 8   density               6497 non-null   float64\n",
      " 9   pH                    6488 non-null   float64\n",
      " 10  sulphates             6493 non-null   float64\n",
      " 11  alcohol               6497 non-null   float64\n",
      " 12  quality               6497 non-null   int64  \n",
      "dtypes: float64(11), int64(1), object(1)\n",
      "memory usage: 660.0+ KB\n"
     ]
    }
   ],
   "source": [
    "#выводим общую информацию о таблице\n",
    "df.info()"
   ]
  },
  {
   "cell_type": "markdown",
   "id": "254febc8",
   "metadata": {},
   "source": [
    "В таблице 13 столбцов. Тип данных в столбцах - `object`, `float64`, `int64`. Количество значений в столбцах различается, что подтверждает наличие пропусков."
   ]
  },
  {
   "cell_type": "markdown",
   "id": "f2876f47",
   "metadata": {},
   "source": [
    "Согласно документации к данным:\n",
    "\n",
    "* `type` — тип вина;\n",
    "* `fixed acidity` — фиксированная кислотность;\n",
    "* `volatile acidity` — летучая кислотность;\n",
    "* `citric acid` — лимонная кислота;\n",
    "* `residual sugar` — остаточный сахар;\n",
    "* `chlorides` - хлориды;\n",
    "* `free sulfur dioxide` — свободный диоксид серы;\n",
    "* `total sulfur dioxide` — общий диоксид серы;\n",
    "* `density` — плотность;\n",
    "* `pH` — pH;\n",
    "* `sulphates` — сульфаты;\n",
    "* `alcohol` — спирт;\n",
    "* `quality` — качество (оценка от 0 до 10);"
   ]
  },
  {
   "cell_type": "markdown",
   "id": "30c40751",
   "metadata": {},
   "source": [
    "**Вывод:**\n",
    "\n",
    "Обнаружены пропуски данных в следующих столбцах: `fixed acidity`, `volatile acidity`, `citric acid`, `residual sugar`, `chlorides`, `pH`, `sulphates`, `sulphates`.\n",
    "\n",
    "Также переименуем названия столбцов в стиль snake_case."
   ]
  },
  {
   "cell_type": "markdown",
   "id": "bd5a4664",
   "metadata": {},
   "source": [
    "## 2. Предобработка данных"
   ]
  },
  {
   "cell_type": "markdown",
   "id": "75e6922a",
   "metadata": {},
   "source": [
    "### 2.1 Стиль заголовков"
   ]
  },
  {
   "cell_type": "code",
   "execution_count": 5,
   "id": "be6a0314",
   "metadata": {
    "scrolled": true
   },
   "outputs": [
    {
     "data": {
      "text/html": [
       "<div>\n",
       "<style scoped>\n",
       "    .dataframe tbody tr th:only-of-type {\n",
       "        vertical-align: middle;\n",
       "    }\n",
       "\n",
       "    .dataframe tbody tr th {\n",
       "        vertical-align: top;\n",
       "    }\n",
       "\n",
       "    .dataframe thead th {\n",
       "        text-align: right;\n",
       "    }\n",
       "</style>\n",
       "<table border=\"1\" class=\"dataframe\">\n",
       "  <thead>\n",
       "    <tr style=\"text-align: right;\">\n",
       "      <th></th>\n",
       "      <th>type</th>\n",
       "      <th>fixed_acidity</th>\n",
       "      <th>volatile_acidity</th>\n",
       "      <th>citric_acid</th>\n",
       "      <th>residual_sugar</th>\n",
       "      <th>chlorides</th>\n",
       "      <th>free_sulfur_dioxide</th>\n",
       "      <th>total_sulfur_dioxide</th>\n",
       "      <th>density</th>\n",
       "      <th>pH</th>\n",
       "      <th>sulphates</th>\n",
       "      <th>alcohol</th>\n",
       "      <th>quality</th>\n",
       "    </tr>\n",
       "  </thead>\n",
       "  <tbody>\n",
       "    <tr>\n",
       "      <th>0</th>\n",
       "      <td>white</td>\n",
       "      <td>7.0</td>\n",
       "      <td>0.27</td>\n",
       "      <td>0.36</td>\n",
       "      <td>20.7</td>\n",
       "      <td>0.045</td>\n",
       "      <td>45.0</td>\n",
       "      <td>170.0</td>\n",
       "      <td>1.0010</td>\n",
       "      <td>3.00</td>\n",
       "      <td>0.45</td>\n",
       "      <td>8.8</td>\n",
       "      <td>6</td>\n",
       "    </tr>\n",
       "    <tr>\n",
       "      <th>1</th>\n",
       "      <td>white</td>\n",
       "      <td>6.3</td>\n",
       "      <td>0.30</td>\n",
       "      <td>0.34</td>\n",
       "      <td>1.6</td>\n",
       "      <td>0.049</td>\n",
       "      <td>14.0</td>\n",
       "      <td>132.0</td>\n",
       "      <td>0.9940</td>\n",
       "      <td>3.30</td>\n",
       "      <td>0.49</td>\n",
       "      <td>9.5</td>\n",
       "      <td>6</td>\n",
       "    </tr>\n",
       "    <tr>\n",
       "      <th>2</th>\n",
       "      <td>white</td>\n",
       "      <td>8.1</td>\n",
       "      <td>0.28</td>\n",
       "      <td>0.40</td>\n",
       "      <td>6.9</td>\n",
       "      <td>0.050</td>\n",
       "      <td>30.0</td>\n",
       "      <td>97.0</td>\n",
       "      <td>0.9951</td>\n",
       "      <td>3.26</td>\n",
       "      <td>0.44</td>\n",
       "      <td>10.1</td>\n",
       "      <td>6</td>\n",
       "    </tr>\n",
       "    <tr>\n",
       "      <th>3</th>\n",
       "      <td>white</td>\n",
       "      <td>7.2</td>\n",
       "      <td>0.23</td>\n",
       "      <td>0.32</td>\n",
       "      <td>8.5</td>\n",
       "      <td>0.058</td>\n",
       "      <td>47.0</td>\n",
       "      <td>186.0</td>\n",
       "      <td>0.9956</td>\n",
       "      <td>3.19</td>\n",
       "      <td>0.40</td>\n",
       "      <td>9.9</td>\n",
       "      <td>6</td>\n",
       "    </tr>\n",
       "    <tr>\n",
       "      <th>4</th>\n",
       "      <td>white</td>\n",
       "      <td>7.2</td>\n",
       "      <td>0.23</td>\n",
       "      <td>0.32</td>\n",
       "      <td>8.5</td>\n",
       "      <td>0.058</td>\n",
       "      <td>47.0</td>\n",
       "      <td>186.0</td>\n",
       "      <td>0.9956</td>\n",
       "      <td>3.19</td>\n",
       "      <td>0.40</td>\n",
       "      <td>9.9</td>\n",
       "      <td>6</td>\n",
       "    </tr>\n",
       "  </tbody>\n",
       "</table>\n",
       "</div>"
      ],
      "text/plain": [
       "    type  fixed_acidity  volatile_acidity  citric_acid  residual_sugar  \\\n",
       "0  white            7.0              0.27         0.36            20.7   \n",
       "1  white            6.3              0.30         0.34             1.6   \n",
       "2  white            8.1              0.28         0.40             6.9   \n",
       "3  white            7.2              0.23         0.32             8.5   \n",
       "4  white            7.2              0.23         0.32             8.5   \n",
       "\n",
       "   chlorides  free_sulfur_dioxide  total_sulfur_dioxide  density    pH  \\\n",
       "0      0.045                 45.0                 170.0   1.0010  3.00   \n",
       "1      0.049                 14.0                 132.0   0.9940  3.30   \n",
       "2      0.050                 30.0                  97.0   0.9951  3.26   \n",
       "3      0.058                 47.0                 186.0   0.9956  3.19   \n",
       "4      0.058                 47.0                 186.0   0.9956  3.19   \n",
       "\n",
       "   sulphates  alcohol  quality  \n",
       "0       0.45      8.8        6  \n",
       "1       0.49      9.5        6  \n",
       "2       0.44     10.1        6  \n",
       "3       0.40      9.9        6  \n",
       "4       0.40      9.9        6  "
      ]
     },
     "execution_count": 5,
     "metadata": {},
     "output_type": "execute_result"
    }
   ],
   "source": [
    "df.rename(columns={elem: '_'.join(elem.split(' ')) for elem in list(df.columns)}, inplace=True)\n",
    "df.head()"
   ]
  },
  {
   "cell_type": "markdown",
   "id": "0ae13b61",
   "metadata": {},
   "source": [
    "### 2.2 Пропуски значений"
   ]
  },
  {
   "cell_type": "code",
   "execution_count": 6,
   "id": "9f13eca0",
   "metadata": {},
   "outputs": [
    {
     "data": {
      "text/plain": [
       "type                     0\n",
       "fixed_acidity           10\n",
       "volatile_acidity         8\n",
       "citric_acid              3\n",
       "residual_sugar           2\n",
       "chlorides                2\n",
       "free_sulfur_dioxide      0\n",
       "total_sulfur_dioxide     0\n",
       "density                  0\n",
       "pH                       9\n",
       "sulphates                4\n",
       "alcohol                  0\n",
       "quality                  0\n",
       "dtype: int64"
      ]
     },
     "execution_count": 6,
     "metadata": {},
     "output_type": "execute_result"
    }
   ],
   "source": [
    "#считаем кол-во прропусков\n",
    "df.isna().sum()"
   ]
  },
  {
   "cell_type": "markdown",
   "id": "5af839e4",
   "metadata": {},
   "source": [
    "Посмотрим на пропуски в столбце `fixed_acidity`, видим что пропуски содержатся по двум типам вина - красное и белое. Заменим пустые значения на среднее значение по типам вина."
   ]
  },
  {
   "cell_type": "code",
   "execution_count": 7,
   "id": "a5e4f11c",
   "metadata": {},
   "outputs": [
    {
     "data": {
      "text/html": [
       "<div>\n",
       "<style scoped>\n",
       "    .dataframe tbody tr th:only-of-type {\n",
       "        vertical-align: middle;\n",
       "    }\n",
       "\n",
       "    .dataframe tbody tr th {\n",
       "        vertical-align: top;\n",
       "    }\n",
       "\n",
       "    .dataframe thead th {\n",
       "        text-align: right;\n",
       "    }\n",
       "</style>\n",
       "<table border=\"1\" class=\"dataframe\">\n",
       "  <thead>\n",
       "    <tr style=\"text-align: right;\">\n",
       "      <th></th>\n",
       "      <th>type</th>\n",
       "      <th>fixed_acidity</th>\n",
       "      <th>volatile_acidity</th>\n",
       "      <th>citric_acid</th>\n",
       "      <th>residual_sugar</th>\n",
       "      <th>chlorides</th>\n",
       "      <th>free_sulfur_dioxide</th>\n",
       "      <th>total_sulfur_dioxide</th>\n",
       "      <th>density</th>\n",
       "      <th>pH</th>\n",
       "      <th>sulphates</th>\n",
       "      <th>alcohol</th>\n",
       "      <th>quality</th>\n",
       "    </tr>\n",
       "  </thead>\n",
       "  <tbody>\n",
       "    <tr>\n",
       "      <th>17</th>\n",
       "      <td>white</td>\n",
       "      <td>NaN</td>\n",
       "      <td>0.660</td>\n",
       "      <td>0.48</td>\n",
       "      <td>1.2</td>\n",
       "      <td>0.029</td>\n",
       "      <td>29.0</td>\n",
       "      <td>75.0</td>\n",
       "      <td>0.98920</td>\n",
       "      <td>3.33</td>\n",
       "      <td>0.39</td>\n",
       "      <td>12.8</td>\n",
       "      <td>8</td>\n",
       "    </tr>\n",
       "    <tr>\n",
       "      <th>174</th>\n",
       "      <td>white</td>\n",
       "      <td>NaN</td>\n",
       "      <td>0.270</td>\n",
       "      <td>0.31</td>\n",
       "      <td>17.7</td>\n",
       "      <td>0.051</td>\n",
       "      <td>33.0</td>\n",
       "      <td>173.0</td>\n",
       "      <td>0.99900</td>\n",
       "      <td>3.09</td>\n",
       "      <td>0.64</td>\n",
       "      <td>10.2</td>\n",
       "      <td>5</td>\n",
       "    </tr>\n",
       "    <tr>\n",
       "      <th>249</th>\n",
       "      <td>white</td>\n",
       "      <td>NaN</td>\n",
       "      <td>0.410</td>\n",
       "      <td>0.14</td>\n",
       "      <td>10.4</td>\n",
       "      <td>0.037</td>\n",
       "      <td>18.0</td>\n",
       "      <td>119.0</td>\n",
       "      <td>0.99600</td>\n",
       "      <td>3.38</td>\n",
       "      <td>0.45</td>\n",
       "      <td>10.0</td>\n",
       "      <td>5</td>\n",
       "    </tr>\n",
       "    <tr>\n",
       "      <th>267</th>\n",
       "      <td>white</td>\n",
       "      <td>NaN</td>\n",
       "      <td>0.580</td>\n",
       "      <td>0.07</td>\n",
       "      <td>6.9</td>\n",
       "      <td>0.043</td>\n",
       "      <td>34.0</td>\n",
       "      <td>149.0</td>\n",
       "      <td>0.99440</td>\n",
       "      <td>3.34</td>\n",
       "      <td>0.57</td>\n",
       "      <td>9.7</td>\n",
       "      <td>5</td>\n",
       "    </tr>\n",
       "    <tr>\n",
       "      <th>368</th>\n",
       "      <td>white</td>\n",
       "      <td>NaN</td>\n",
       "      <td>0.290</td>\n",
       "      <td>0.48</td>\n",
       "      <td>2.3</td>\n",
       "      <td>0.049</td>\n",
       "      <td>36.0</td>\n",
       "      <td>178.0</td>\n",
       "      <td>0.99310</td>\n",
       "      <td>3.17</td>\n",
       "      <td>0.64</td>\n",
       "      <td>10.6</td>\n",
       "      <td>6</td>\n",
       "    </tr>\n",
       "    <tr>\n",
       "      <th>518</th>\n",
       "      <td>white</td>\n",
       "      <td>NaN</td>\n",
       "      <td>0.130</td>\n",
       "      <td>0.28</td>\n",
       "      <td>1.9</td>\n",
       "      <td>0.050</td>\n",
       "      <td>20.0</td>\n",
       "      <td>78.0</td>\n",
       "      <td>0.99180</td>\n",
       "      <td>3.43</td>\n",
       "      <td>0.64</td>\n",
       "      <td>10.8</td>\n",
       "      <td>6</td>\n",
       "    </tr>\n",
       "    <tr>\n",
       "      <th>1079</th>\n",
       "      <td>white</td>\n",
       "      <td>NaN</td>\n",
       "      <td>NaN</td>\n",
       "      <td>0.29</td>\n",
       "      <td>6.2</td>\n",
       "      <td>0.046</td>\n",
       "      <td>29.0</td>\n",
       "      <td>227.0</td>\n",
       "      <td>0.99520</td>\n",
       "      <td>3.29</td>\n",
       "      <td>0.53</td>\n",
       "      <td>10.1</td>\n",
       "      <td>6</td>\n",
       "    </tr>\n",
       "    <tr>\n",
       "      <th>2902</th>\n",
       "      <td>white</td>\n",
       "      <td>NaN</td>\n",
       "      <td>0.360</td>\n",
       "      <td>0.14</td>\n",
       "      <td>8.9</td>\n",
       "      <td>0.036</td>\n",
       "      <td>38.0</td>\n",
       "      <td>155.0</td>\n",
       "      <td>0.99622</td>\n",
       "      <td>3.27</td>\n",
       "      <td>NaN</td>\n",
       "      <td>9.4</td>\n",
       "      <td>5</td>\n",
       "    </tr>\n",
       "    <tr>\n",
       "      <th>6428</th>\n",
       "      <td>red</td>\n",
       "      <td>NaN</td>\n",
       "      <td>0.440</td>\n",
       "      <td>0.09</td>\n",
       "      <td>2.2</td>\n",
       "      <td>0.063</td>\n",
       "      <td>9.0</td>\n",
       "      <td>18.0</td>\n",
       "      <td>0.99444</td>\n",
       "      <td>NaN</td>\n",
       "      <td>0.69</td>\n",
       "      <td>11.3</td>\n",
       "      <td>6</td>\n",
       "    </tr>\n",
       "    <tr>\n",
       "      <th>6429</th>\n",
       "      <td>red</td>\n",
       "      <td>NaN</td>\n",
       "      <td>0.705</td>\n",
       "      <td>0.10</td>\n",
       "      <td>2.8</td>\n",
       "      <td>0.081</td>\n",
       "      <td>13.0</td>\n",
       "      <td>28.0</td>\n",
       "      <td>0.99631</td>\n",
       "      <td>NaN</td>\n",
       "      <td>0.66</td>\n",
       "      <td>10.2</td>\n",
       "      <td>5</td>\n",
       "    </tr>\n",
       "  </tbody>\n",
       "</table>\n",
       "</div>"
      ],
      "text/plain": [
       "       type  fixed_acidity  volatile_acidity  citric_acid  residual_sugar  \\\n",
       "17    white            NaN             0.660         0.48             1.2   \n",
       "174   white            NaN             0.270         0.31            17.7   \n",
       "249   white            NaN             0.410         0.14            10.4   \n",
       "267   white            NaN             0.580         0.07             6.9   \n",
       "368   white            NaN             0.290         0.48             2.3   \n",
       "518   white            NaN             0.130         0.28             1.9   \n",
       "1079  white            NaN               NaN         0.29             6.2   \n",
       "2902  white            NaN             0.360         0.14             8.9   \n",
       "6428    red            NaN             0.440         0.09             2.2   \n",
       "6429    red            NaN             0.705         0.10             2.8   \n",
       "\n",
       "      chlorides  free_sulfur_dioxide  total_sulfur_dioxide  density    pH  \\\n",
       "17        0.029                 29.0                  75.0  0.98920  3.33   \n",
       "174       0.051                 33.0                 173.0  0.99900  3.09   \n",
       "249       0.037                 18.0                 119.0  0.99600  3.38   \n",
       "267       0.043                 34.0                 149.0  0.99440  3.34   \n",
       "368       0.049                 36.0                 178.0  0.99310  3.17   \n",
       "518       0.050                 20.0                  78.0  0.99180  3.43   \n",
       "1079      0.046                 29.0                 227.0  0.99520  3.29   \n",
       "2902      0.036                 38.0                 155.0  0.99622  3.27   \n",
       "6428      0.063                  9.0                  18.0  0.99444   NaN   \n",
       "6429      0.081                 13.0                  28.0  0.99631   NaN   \n",
       "\n",
       "      sulphates  alcohol  quality  \n",
       "17         0.39     12.8        8  \n",
       "174        0.64     10.2        5  \n",
       "249        0.45     10.0        5  \n",
       "267        0.57      9.7        5  \n",
       "368        0.64     10.6        6  \n",
       "518        0.64     10.8        6  \n",
       "1079       0.53     10.1        6  \n",
       "2902        NaN      9.4        5  \n",
       "6428       0.69     11.3        6  \n",
       "6429       0.66     10.2        5  "
      ]
     },
     "execution_count": 7,
     "metadata": {},
     "output_type": "execute_result"
    }
   ],
   "source": [
    "df[df['fixed_acidity'].isna()]"
   ]
  },
  {
   "cell_type": "code",
   "execution_count": 8,
   "id": "fd4838d5",
   "metadata": {},
   "outputs": [
    {
     "name": "stdout",
     "output_type": "stream",
     "text": [
      "white mean: 6.855531697341513\n",
      "red mean: 8.32210394489668\n"
     ]
    }
   ],
   "source": [
    "print(\"white mean: {}\".format(df[df['type'] == 'white']['fixed_acidity'].mean()))\n",
    "print(\"red mean: {}\".format(df[df['type'] == 'red']['fixed_acidity'].mean()))"
   ]
  },
  {
   "cell_type": "code",
   "execution_count": 9,
   "id": "8a03859b",
   "metadata": {},
   "outputs": [],
   "source": [
    "df.loc[(df['fixed_acidity'].isna()) & (df['type'] == 'white'), 'fixed_acidity'] = df[df['type'] == 'white']['fixed_acidity'].mean()\n",
    "df.loc[(df['fixed_acidity'].isna()) & (df['type'] == 'red'), 'fixed_acidity'] = df[df['type'] == 'red']['fixed_acidity'].mean()"
   ]
  },
  {
   "cell_type": "code",
   "execution_count": 10,
   "id": "101ae6ed",
   "metadata": {},
   "outputs": [
    {
     "data": {
      "text/plain": [
       "type                    0\n",
       "fixed_acidity           0\n",
       "volatile_acidity        8\n",
       "citric_acid             3\n",
       "residual_sugar          2\n",
       "chlorides               2\n",
       "free_sulfur_dioxide     0\n",
       "total_sulfur_dioxide    0\n",
       "density                 0\n",
       "pH                      9\n",
       "sulphates               4\n",
       "alcohol                 0\n",
       "quality                 0\n",
       "dtype: int64"
      ]
     },
     "execution_count": 10,
     "metadata": {},
     "output_type": "execute_result"
    }
   ],
   "source": [
    "# проверяем отсутствие пропусков fixed_acidity\n",
    "df.isna().sum()"
   ]
  },
  {
   "cell_type": "markdown",
   "id": "be0c6b60",
   "metadata": {},
   "source": [
    "Посмотрим на пропуски в столбце `volatile_acidity`, видим что пропуски содержатся по двум типам вина - красное и белое, а также можно заметить что значения в столбце `free_sulfur_dioxide` варьируется от 8 до 55. "
   ]
  },
  {
   "cell_type": "code",
   "execution_count": 11,
   "id": "c792e815",
   "metadata": {},
   "outputs": [
    {
     "data": {
      "text/html": [
       "<div>\n",
       "<style scoped>\n",
       "    .dataframe tbody tr th:only-of-type {\n",
       "        vertical-align: middle;\n",
       "    }\n",
       "\n",
       "    .dataframe tbody tr th {\n",
       "        vertical-align: top;\n",
       "    }\n",
       "\n",
       "    .dataframe thead th {\n",
       "        text-align: right;\n",
       "    }\n",
       "</style>\n",
       "<table border=\"1\" class=\"dataframe\">\n",
       "  <thead>\n",
       "    <tr style=\"text-align: right;\">\n",
       "      <th></th>\n",
       "      <th>type</th>\n",
       "      <th>fixed_acidity</th>\n",
       "      <th>volatile_acidity</th>\n",
       "      <th>citric_acid</th>\n",
       "      <th>residual_sugar</th>\n",
       "      <th>chlorides</th>\n",
       "      <th>free_sulfur_dioxide</th>\n",
       "      <th>total_sulfur_dioxide</th>\n",
       "      <th>density</th>\n",
       "      <th>pH</th>\n",
       "      <th>sulphates</th>\n",
       "      <th>alcohol</th>\n",
       "      <th>quality</th>\n",
       "    </tr>\n",
       "  </thead>\n",
       "  <tbody>\n",
       "    <tr>\n",
       "      <th>86</th>\n",
       "      <td>white</td>\n",
       "      <td>7.200000</td>\n",
       "      <td>NaN</td>\n",
       "      <td>0.63</td>\n",
       "      <td>11.0</td>\n",
       "      <td>0.044</td>\n",
       "      <td>55.0</td>\n",
       "      <td>156.0</td>\n",
       "      <td>0.99740</td>\n",
       "      <td>3.09</td>\n",
       "      <td>0.44</td>\n",
       "      <td>8.7</td>\n",
       "      <td>6</td>\n",
       "    </tr>\n",
       "    <tr>\n",
       "      <th>521</th>\n",
       "      <td>white</td>\n",
       "      <td>7.900000</td>\n",
       "      <td>NaN</td>\n",
       "      <td>0.26</td>\n",
       "      <td>2.1</td>\n",
       "      <td>0.039</td>\n",
       "      <td>8.0</td>\n",
       "      <td>143.0</td>\n",
       "      <td>0.99420</td>\n",
       "      <td>3.05</td>\n",
       "      <td>0.74</td>\n",
       "      <td>9.8</td>\n",
       "      <td>5</td>\n",
       "    </tr>\n",
       "    <tr>\n",
       "      <th>621</th>\n",
       "      <td>white</td>\n",
       "      <td>6.500000</td>\n",
       "      <td>NaN</td>\n",
       "      <td>0.43</td>\n",
       "      <td>8.9</td>\n",
       "      <td>0.083</td>\n",
       "      <td>50.0</td>\n",
       "      <td>171.0</td>\n",
       "      <td>0.99650</td>\n",
       "      <td>2.85</td>\n",
       "      <td>0.50</td>\n",
       "      <td>9.0</td>\n",
       "      <td>5</td>\n",
       "    </tr>\n",
       "    <tr>\n",
       "      <th>812</th>\n",
       "      <td>white</td>\n",
       "      <td>6.400000</td>\n",
       "      <td>NaN</td>\n",
       "      <td>0.28</td>\n",
       "      <td>1.1</td>\n",
       "      <td>0.055</td>\n",
       "      <td>9.0</td>\n",
       "      <td>160.0</td>\n",
       "      <td>0.99405</td>\n",
       "      <td>3.42</td>\n",
       "      <td>0.50</td>\n",
       "      <td>9.1</td>\n",
       "      <td>7</td>\n",
       "    </tr>\n",
       "    <tr>\n",
       "      <th>1079</th>\n",
       "      <td>white</td>\n",
       "      <td>6.855532</td>\n",
       "      <td>NaN</td>\n",
       "      <td>0.29</td>\n",
       "      <td>6.2</td>\n",
       "      <td>0.046</td>\n",
       "      <td>29.0</td>\n",
       "      <td>227.0</td>\n",
       "      <td>0.99520</td>\n",
       "      <td>3.29</td>\n",
       "      <td>0.53</td>\n",
       "      <td>10.1</td>\n",
       "      <td>6</td>\n",
       "    </tr>\n",
       "    <tr>\n",
       "      <th>2894</th>\n",
       "      <td>white</td>\n",
       "      <td>6.400000</td>\n",
       "      <td>NaN</td>\n",
       "      <td>0.36</td>\n",
       "      <td>1.4</td>\n",
       "      <td>0.044</td>\n",
       "      <td>22.0</td>\n",
       "      <td>68.0</td>\n",
       "      <td>0.99014</td>\n",
       "      <td>3.15</td>\n",
       "      <td>0.50</td>\n",
       "      <td>11.7</td>\n",
       "      <td>7</td>\n",
       "    </tr>\n",
       "    <tr>\n",
       "      <th>4895</th>\n",
       "      <td>white</td>\n",
       "      <td>6.500000</td>\n",
       "      <td>NaN</td>\n",
       "      <td>0.19</td>\n",
       "      <td>1.2</td>\n",
       "      <td>0.041</td>\n",
       "      <td>30.0</td>\n",
       "      <td>111.0</td>\n",
       "      <td>0.99254</td>\n",
       "      <td>2.99</td>\n",
       "      <td>0.46</td>\n",
       "      <td>9.4</td>\n",
       "      <td>6</td>\n",
       "    </tr>\n",
       "    <tr>\n",
       "      <th>6486</th>\n",
       "      <td>red</td>\n",
       "      <td>7.200000</td>\n",
       "      <td>NaN</td>\n",
       "      <td>0.33</td>\n",
       "      <td>2.5</td>\n",
       "      <td>0.068</td>\n",
       "      <td>34.0</td>\n",
       "      <td>102.0</td>\n",
       "      <td>0.99414</td>\n",
       "      <td>3.27</td>\n",
       "      <td>0.78</td>\n",
       "      <td>12.8</td>\n",
       "      <td>6</td>\n",
       "    </tr>\n",
       "  </tbody>\n",
       "</table>\n",
       "</div>"
      ],
      "text/plain": [
       "       type  fixed_acidity  volatile_acidity  citric_acid  residual_sugar  \\\n",
       "86    white       7.200000               NaN         0.63            11.0   \n",
       "521   white       7.900000               NaN         0.26             2.1   \n",
       "621   white       6.500000               NaN         0.43             8.9   \n",
       "812   white       6.400000               NaN         0.28             1.1   \n",
       "1079  white       6.855532               NaN         0.29             6.2   \n",
       "2894  white       6.400000               NaN         0.36             1.4   \n",
       "4895  white       6.500000               NaN         0.19             1.2   \n",
       "6486    red       7.200000               NaN         0.33             2.5   \n",
       "\n",
       "      chlorides  free_sulfur_dioxide  total_sulfur_dioxide  density    pH  \\\n",
       "86        0.044                 55.0                 156.0  0.99740  3.09   \n",
       "521       0.039                  8.0                 143.0  0.99420  3.05   \n",
       "621       0.083                 50.0                 171.0  0.99650  2.85   \n",
       "812       0.055                  9.0                 160.0  0.99405  3.42   \n",
       "1079      0.046                 29.0                 227.0  0.99520  3.29   \n",
       "2894      0.044                 22.0                  68.0  0.99014  3.15   \n",
       "4895      0.041                 30.0                 111.0  0.99254  2.99   \n",
       "6486      0.068                 34.0                 102.0  0.99414  3.27   \n",
       "\n",
       "      sulphates  alcohol  quality  \n",
       "86         0.44      8.7        6  \n",
       "521        0.74      9.8        5  \n",
       "621        0.50      9.0        5  \n",
       "812        0.50      9.1        7  \n",
       "1079       0.53     10.1        6  \n",
       "2894       0.50     11.7        7  \n",
       "4895       0.46      9.4        6  \n",
       "6486       0.78     12.8        6  "
      ]
     },
     "execution_count": 11,
     "metadata": {},
     "output_type": "execute_result"
    }
   ],
   "source": [
    "df[df['volatile_acidity'].isna()]"
   ]
  },
  {
   "cell_type": "markdown",
   "id": "1abebb64",
   "metadata": {},
   "source": [
    "Можно разделить эти строки на 3 диапазона: от 5 до 15, от 20 до 40, и от 45 до 60, и посчитать по ним среднее."
   ]
  },
  {
   "cell_type": "code",
   "execution_count": 12,
   "id": "3f47c1a3",
   "metadata": {},
   "outputs": [
    {
     "name": "stdout",
     "output_type": "stream",
     "text": [
      "white, sulfur  between 5-15 mean: 0.30465736040609137\n"
     ]
    }
   ],
   "source": [
    "print(\"white, sulfur  between 5-15 mean: {}\".format(df.loc[(df['type'] == 'white') \n",
    "                                                           & (df['free_sulfur_dioxide'] > 5) \n",
    "                                                           & (df['free_sulfur_dioxide'] < 15), \n",
    "                                                           'volatile_acidity'].mean()))"
   ]
  },
  {
   "cell_type": "code",
   "execution_count": 13,
   "id": "8a767c80",
   "metadata": {},
   "outputs": [
    {
     "name": "stdout",
     "output_type": "stream",
     "text": [
      "white, sulfur  between 20-40 mean: 0.27927849264705884\n"
     ]
    }
   ],
   "source": [
    "print(\"white, sulfur  between 20-40 mean: {}\".format(df.loc[(df['type'] == 'white') \n",
    "                                                            & (df['free_sulfur_dioxide'] > 20) \n",
    "                                                            & (df['free_sulfur_dioxide'] < 40), \n",
    "                                                            'volatile_acidity'].mean()))"
   ]
  },
  {
   "cell_type": "code",
   "execution_count": 14,
   "id": "0b6d0cb1",
   "metadata": {},
   "outputs": [
    {
     "name": "stdout",
     "output_type": "stream",
     "text": [
      "white, sulfur  between 45-60 mean: 0.26686331775700933\n"
     ]
    }
   ],
   "source": [
    "print(\"white, sulfur  between 45-60 mean: {}\".format(df.loc[(df['type'] == 'white') \n",
    "                                                            & (df['free_sulfur_dioxide'] > 45) \n",
    "                                                            & (df['free_sulfur_dioxide'] < 60), \n",
    "                                                            'volatile_acidity'].mean()))"
   ]
  },
  {
   "cell_type": "code",
   "execution_count": 15,
   "id": "f028794a",
   "metadata": {},
   "outputs": [
    {
     "name": "stdout",
     "output_type": "stream",
     "text": [
      "red, sulfur  between 20-40 mean: 0.5209079283887468\n"
     ]
    }
   ],
   "source": [
    "print(\"red, sulfur  between 20-40 mean: {}\".format(df.loc[(df['type'] == 'red') \n",
    "                                                          & (df['free_sulfur_dioxide'] > 20) \n",
    "                                                          & (df['free_sulfur_dioxide'] < 40), \n",
    "                                                          'volatile_acidity'].mean()))"
   ]
  },
  {
   "cell_type": "code",
   "execution_count": 16,
   "id": "33046034",
   "metadata": {},
   "outputs": [],
   "source": [
    "df.loc[(df['volatile_acidity'].isna()) & (df['type'] == 'white') \n",
    "                                       & (df['free_sulfur_dioxide'] > 5) & (df['free_sulfur_dioxide'] < 15), \n",
    "                                       'volatile_acidity'] = df.loc[(df['type'] == 'white') \n",
    "                                       & (df['free_sulfur_dioxide'] > 5) & (df['free_sulfur_dioxide'] < 15), \n",
    "                                      'volatile_acidity'].mean()"
   ]
  },
  {
   "cell_type": "code",
   "execution_count": 17,
   "id": "d063b037",
   "metadata": {},
   "outputs": [],
   "source": [
    "df.loc[(df['volatile_acidity'].isna()) & (df['type'] == 'white') \n",
    "                                       & (df['free_sulfur_dioxide'] > 20) & (df['free_sulfur_dioxide'] < 40), \n",
    "                                       'volatile_acidity'] = df.loc[(df['type'] == 'white') \n",
    "                                       & (df['free_sulfur_dioxide'] > 20) & (df['free_sulfur_dioxide'] < 40), \n",
    "                                       'volatile_acidity'].mean()"
   ]
  },
  {
   "cell_type": "code",
   "execution_count": 18,
   "id": "c6c1e880",
   "metadata": {},
   "outputs": [],
   "source": [
    "df.loc[(df['volatile_acidity'].isna()) & (df['type'] == 'white') \n",
    "                                       & (df['free_sulfur_dioxide'] > 45) & (df['free_sulfur_dioxide'] < 60), \n",
    "                                       'volatile_acidity'] = df.loc[(df['type'] == 'white') \n",
    "                                       & (df['free_sulfur_dioxide'] > 45) & (df['free_sulfur_dioxide'] < 60), \n",
    "                                       'volatile_acidity'].mean()"
   ]
  },
  {
   "cell_type": "code",
   "execution_count": 19,
   "id": "9e89f7f0",
   "metadata": {},
   "outputs": [],
   "source": [
    "df.loc[(df['volatile_acidity'].isna()) & (df['type'] == 'red') \n",
    "                                       & (df['free_sulfur_dioxide'] > 20) & (df['free_sulfur_dioxide'] < 40), \n",
    "                                       'volatile_acidity'] = df.loc[(df['type'] == 'red') \n",
    "                                       & (df['free_sulfur_dioxide'] > 20) & (df['free_sulfur_dioxide'] < 40), \n",
    "                                       'volatile_acidity'].mean() "
   ]
  },
  {
   "cell_type": "code",
   "execution_count": 20,
   "id": "bd392ccd",
   "metadata": {},
   "outputs": [
    {
     "data": {
      "text/plain": [
       "type                    0\n",
       "fixed_acidity           0\n",
       "volatile_acidity        0\n",
       "citric_acid             3\n",
       "residual_sugar          2\n",
       "chlorides               2\n",
       "free_sulfur_dioxide     0\n",
       "total_sulfur_dioxide    0\n",
       "density                 0\n",
       "pH                      9\n",
       "sulphates               4\n",
       "alcohol                 0\n",
       "quality                 0\n",
       "dtype: int64"
      ]
     },
     "execution_count": 20,
     "metadata": {},
     "output_type": "execute_result"
    }
   ],
   "source": [
    "# проверяем отсутствие пропусков volatile_acidity\n",
    "df.isna().sum()"
   ]
  },
  {
   "cell_type": "markdown",
   "id": "f7d3b76f",
   "metadata": {},
   "source": [
    "Посмотрим на пропуски в столбце `citric_acid`, видим что пропуски содержатся по двум типам вина - красное и белое, а также можно заметить что значения в столбце `residual_sugar` варьируется от 2 до 13. "
   ]
  },
  {
   "cell_type": "code",
   "execution_count": 21,
   "id": "42ac6fbd",
   "metadata": {},
   "outputs": [
    {
     "data": {
      "text/html": [
       "<div>\n",
       "<style scoped>\n",
       "    .dataframe tbody tr th:only-of-type {\n",
       "        vertical-align: middle;\n",
       "    }\n",
       "\n",
       "    .dataframe tbody tr th {\n",
       "        vertical-align: top;\n",
       "    }\n",
       "\n",
       "    .dataframe thead th {\n",
       "        text-align: right;\n",
       "    }\n",
       "</style>\n",
       "<table border=\"1\" class=\"dataframe\">\n",
       "  <thead>\n",
       "    <tr style=\"text-align: right;\">\n",
       "      <th></th>\n",
       "      <th>type</th>\n",
       "      <th>fixed_acidity</th>\n",
       "      <th>volatile_acidity</th>\n",
       "      <th>citric_acid</th>\n",
       "      <th>residual_sugar</th>\n",
       "      <th>chlorides</th>\n",
       "      <th>free_sulfur_dioxide</th>\n",
       "      <th>total_sulfur_dioxide</th>\n",
       "      <th>density</th>\n",
       "      <th>pH</th>\n",
       "      <th>sulphates</th>\n",
       "      <th>alcohol</th>\n",
       "      <th>quality</th>\n",
       "    </tr>\n",
       "  </thead>\n",
       "  <tbody>\n",
       "    <tr>\n",
       "      <th>268</th>\n",
       "      <td>white</td>\n",
       "      <td>5.3</td>\n",
       "      <td>0.585</td>\n",
       "      <td>NaN</td>\n",
       "      <td>7.1</td>\n",
       "      <td>0.044</td>\n",
       "      <td>34.0</td>\n",
       "      <td>145.0</td>\n",
       "      <td>0.9945</td>\n",
       "      <td>3.34</td>\n",
       "      <td>0.57</td>\n",
       "      <td>9.7</td>\n",
       "      <td>6</td>\n",
       "    </tr>\n",
       "    <tr>\n",
       "      <th>909</th>\n",
       "      <td>white</td>\n",
       "      <td>7.5</td>\n",
       "      <td>0.240</td>\n",
       "      <td>NaN</td>\n",
       "      <td>13.0</td>\n",
       "      <td>0.049</td>\n",
       "      <td>46.0</td>\n",
       "      <td>217.0</td>\n",
       "      <td>0.9985</td>\n",
       "      <td>3.08</td>\n",
       "      <td>0.53</td>\n",
       "      <td>8.8</td>\n",
       "      <td>5</td>\n",
       "    </tr>\n",
       "    <tr>\n",
       "      <th>6320</th>\n",
       "      <td>red</td>\n",
       "      <td>7.0</td>\n",
       "      <td>0.540</td>\n",
       "      <td>NaN</td>\n",
       "      <td>2.1</td>\n",
       "      <td>0.079</td>\n",
       "      <td>39.0</td>\n",
       "      <td>55.0</td>\n",
       "      <td>0.9956</td>\n",
       "      <td>3.39</td>\n",
       "      <td>0.84</td>\n",
       "      <td>11.4</td>\n",
       "      <td>6</td>\n",
       "    </tr>\n",
       "  </tbody>\n",
       "</table>\n",
       "</div>"
      ],
      "text/plain": [
       "       type  fixed_acidity  volatile_acidity  citric_acid  residual_sugar  \\\n",
       "268   white            5.3             0.585          NaN             7.1   \n",
       "909   white            7.5             0.240          NaN            13.0   \n",
       "6320    red            7.0             0.540          NaN             2.1   \n",
       "\n",
       "      chlorides  free_sulfur_dioxide  total_sulfur_dioxide  density    pH  \\\n",
       "268       0.044                 34.0                 145.0   0.9945  3.34   \n",
       "909       0.049                 46.0                 217.0   0.9985  3.08   \n",
       "6320      0.079                 39.0                  55.0   0.9956  3.39   \n",
       "\n",
       "      sulphates  alcohol  quality  \n",
       "268        0.57      9.7        6  \n",
       "909        0.53      8.8        5  \n",
       "6320       0.84     11.4        6  "
      ]
     },
     "execution_count": 21,
     "metadata": {},
     "output_type": "execute_result"
    }
   ],
   "source": [
    "df[df['citric_acid'].isna()]"
   ]
  },
  {
   "cell_type": "markdown",
   "id": "6a7304ed",
   "metadata": {},
   "source": [
    "Можно разделить эти строки на 3 диапазона: меньше 5, от 5 до 10, от 10 до 15, и посчитать по ним среднее."
   ]
  },
  {
   "cell_type": "code",
   "execution_count": 22,
   "id": "1f20b921",
   "metadata": {},
   "outputs": [
    {
     "name": "stdout",
     "output_type": "stream",
     "text": [
      "white, sugar between 20-40 mean: 0.3408928571428572\n"
     ]
    }
   ],
   "source": [
    "print(\"white, sugar between 20-40 mean: {}\".format(df.loc[(df['type'] == 'white') \n",
    "                                                          & (df['residual_sugar'] > 5) \n",
    "                                                          & (df['free_sulfur_dioxide'] <= 10), \n",
    "                                                          'citric_acid'].mean()))"
   ]
  },
  {
   "cell_type": "code",
   "execution_count": 23,
   "id": "1be004c9",
   "metadata": {},
   "outputs": [
    {
     "name": "stdout",
     "output_type": "stream",
     "text": [
      "white, sugar between 45-60 mean: 0.36749999999999994\n"
     ]
    }
   ],
   "source": [
    "print(\"white, sugar between 45-60 mean: {}\".format(df.loc[(df['type'] == 'white') \n",
    "                                                          & (df['residual_sugar'] > 10) \n",
    "                                                          & (df['free_sulfur_dioxide'] < 15), \n",
    "                                                          'citric_acid'].mean()))"
   ]
  },
  {
   "cell_type": "code",
   "execution_count": 24,
   "id": "9620de53",
   "metadata": {},
   "outputs": [
    {
     "name": "stdout",
     "output_type": "stream",
     "text": [
      "red, sugar between 20-40 mean: 0.3003030303030303\n"
     ]
    }
   ],
   "source": [
    "print(\"red, sugar between 20-40 mean: {}\".format(df.loc[(df['type'] == 'red') \n",
    "                                                        & (df['free_sulfur_dioxide'] <= 5), \n",
    "                                                        'citric_acid'].mean()))"
   ]
  },
  {
   "cell_type": "code",
   "execution_count": 25,
   "id": "7204e297",
   "metadata": {},
   "outputs": [],
   "source": [
    "df.loc[(df['citric_acid'].isna()) & (df['type'] == 'white') \n",
    "                                  & (df['residual_sugar'] > 5) & (df['residual_sugar'] <= 10), \n",
    "                                  'citric_acid'] = df.loc[(df['type'] == 'white') & (df['residual_sugar'] > 5) \n",
    "                                  & (df['free_sulfur_dioxide'] <= 10), 'citric_acid'].mean()"
   ]
  },
  {
   "cell_type": "code",
   "execution_count": 26,
   "id": "73eeed11",
   "metadata": {},
   "outputs": [],
   "source": [
    "df.loc[(df['citric_acid'].isna()) & (df['type'] == 'white') \n",
    "                                  & (df['residual_sugar'] > 10) & (df['residual_sugar'] < 15), \n",
    "                                  'citric_acid'] = df.loc[(df['type'] == 'white') & (df['residual_sugar'] > 10) \n",
    "                                  & (df['free_sulfur_dioxide'] < 15), 'citric_acid'].mean()"
   ]
  },
  {
   "cell_type": "code",
   "execution_count": 27,
   "id": "1b9d59a2",
   "metadata": {},
   "outputs": [],
   "source": [
    "df.loc[(df['citric_acid'].isna()) & (df['type'] == 'red') \n",
    "                                  & (df['residual_sugar'] <= 5), 'citric_acid'] = df.loc[(df['type'] == 'red') \n",
    "                                  & (df['free_sulfur_dioxide'] <= 5), 'citric_acid'].mean()\n"
   ]
  },
  {
   "cell_type": "code",
   "execution_count": 28,
   "id": "19f5190e",
   "metadata": {},
   "outputs": [
    {
     "data": {
      "text/plain": [
       "type                    0\n",
       "fixed_acidity           0\n",
       "volatile_acidity        0\n",
       "citric_acid             0\n",
       "residual_sugar          2\n",
       "chlorides               2\n",
       "free_sulfur_dioxide     0\n",
       "total_sulfur_dioxide    0\n",
       "density                 0\n",
       "pH                      9\n",
       "sulphates               4\n",
       "alcohol                 0\n",
       "quality                 0\n",
       "dtype: int64"
      ]
     },
     "execution_count": 28,
     "metadata": {},
     "output_type": "execute_result"
    }
   ],
   "source": [
    "# проверяем отсутствие пропусков citric_acid\n",
    "df.isna().sum()"
   ]
  },
  {
   "cell_type": "markdown",
   "id": "e9c13a13",
   "metadata": {},
   "source": [
    "Посмотрим на пропуски в столбце `residual_sugar`, видим что пропуски содержатся по типу вина - `white`. "
   ]
  },
  {
   "cell_type": "code",
   "execution_count": 29,
   "id": "b77c7143",
   "metadata": {},
   "outputs": [
    {
     "data": {
      "text/html": [
       "<div>\n",
       "<style scoped>\n",
       "    .dataframe tbody tr th:only-of-type {\n",
       "        vertical-align: middle;\n",
       "    }\n",
       "\n",
       "    .dataframe tbody tr th {\n",
       "        vertical-align: top;\n",
       "    }\n",
       "\n",
       "    .dataframe thead th {\n",
       "        text-align: right;\n",
       "    }\n",
       "</style>\n",
       "<table border=\"1\" class=\"dataframe\">\n",
       "  <thead>\n",
       "    <tr style=\"text-align: right;\">\n",
       "      <th></th>\n",
       "      <th>type</th>\n",
       "      <th>fixed_acidity</th>\n",
       "      <th>volatile_acidity</th>\n",
       "      <th>citric_acid</th>\n",
       "      <th>residual_sugar</th>\n",
       "      <th>chlorides</th>\n",
       "      <th>free_sulfur_dioxide</th>\n",
       "      <th>total_sulfur_dioxide</th>\n",
       "      <th>density</th>\n",
       "      <th>pH</th>\n",
       "      <th>sulphates</th>\n",
       "      <th>alcohol</th>\n",
       "      <th>quality</th>\n",
       "    </tr>\n",
       "  </thead>\n",
       "  <tbody>\n",
       "    <tr>\n",
       "      <th>33</th>\n",
       "      <td>white</td>\n",
       "      <td>6.2</td>\n",
       "      <td>0.120</td>\n",
       "      <td>0.34</td>\n",
       "      <td>NaN</td>\n",
       "      <td>0.045</td>\n",
       "      <td>43.0</td>\n",
       "      <td>117.0</td>\n",
       "      <td>0.9939</td>\n",
       "      <td>3.42</td>\n",
       "      <td>0.51</td>\n",
       "      <td>9.0</td>\n",
       "      <td>6</td>\n",
       "    </tr>\n",
       "    <tr>\n",
       "      <th>438</th>\n",
       "      <td>white</td>\n",
       "      <td>7.4</td>\n",
       "      <td>0.155</td>\n",
       "      <td>0.34</td>\n",
       "      <td>NaN</td>\n",
       "      <td>0.045</td>\n",
       "      <td>73.5</td>\n",
       "      <td>214.0</td>\n",
       "      <td>0.9934</td>\n",
       "      <td>3.18</td>\n",
       "      <td>0.61</td>\n",
       "      <td>9.9</td>\n",
       "      <td>7</td>\n",
       "    </tr>\n",
       "  </tbody>\n",
       "</table>\n",
       "</div>"
      ],
      "text/plain": [
       "      type  fixed_acidity  volatile_acidity  citric_acid  residual_sugar  \\\n",
       "33   white            6.2             0.120         0.34             NaN   \n",
       "438  white            7.4             0.155         0.34             NaN   \n",
       "\n",
       "     chlorides  free_sulfur_dioxide  total_sulfur_dioxide  density    pH  \\\n",
       "33       0.045                 43.0                 117.0   0.9939  3.42   \n",
       "438      0.045                 73.5                 214.0   0.9934  3.18   \n",
       "\n",
       "     sulphates  alcohol  quality  \n",
       "33        0.51      9.0        6  \n",
       "438       0.61      9.9        7  "
      ]
     },
     "execution_count": 29,
     "metadata": {},
     "output_type": "execute_result"
    }
   ],
   "source": [
    "df[df['residual_sugar'].isna()]"
   ]
  },
  {
   "cell_type": "markdown",
   "id": "ede6ad88",
   "metadata": {},
   "source": [
    "Заменим пустые значения в столбце `residual_sugar` на среднее значение по типу вина - `white`."
   ]
  },
  {
   "cell_type": "code",
   "execution_count": 30,
   "id": "7bfa720c",
   "metadata": {},
   "outputs": [
    {
     "name": "stdout",
     "output_type": "stream",
     "text": [
      "white: 6.3932495915032685\n"
     ]
    }
   ],
   "source": [
    "print(\"white: {}\".format(df.loc[df['type'] == 'white', 'residual_sugar'].mean()))"
   ]
  },
  {
   "cell_type": "code",
   "execution_count": 32,
   "id": "daf6bc40",
   "metadata": {},
   "outputs": [],
   "source": [
    "df.loc[(df['residual_sugar'].isna()) & (df['type'] == 'white'), \n",
    "                                     'residual_sugar'] = df.loc[df['type'] == 'white', 'residual_sugar'].mean()"
   ]
  },
  {
   "cell_type": "code",
   "execution_count": 33,
   "id": "f7ed0cfb",
   "metadata": {},
   "outputs": [
    {
     "data": {
      "text/plain": [
       "type                    0\n",
       "fixed_acidity           0\n",
       "volatile_acidity        0\n",
       "citric_acid             0\n",
       "residual_sugar          0\n",
       "chlorides               2\n",
       "free_sulfur_dioxide     0\n",
       "total_sulfur_dioxide    0\n",
       "density                 0\n",
       "pH                      9\n",
       "sulphates               4\n",
       "alcohol                 0\n",
       "quality                 0\n",
       "dtype: int64"
      ]
     },
     "execution_count": 33,
     "metadata": {},
     "output_type": "execute_result"
    }
   ],
   "source": [
    "# проверяем отсутствие пропусков residual_sugar\n",
    "df.isna().sum()"
   ]
  },
  {
   "cell_type": "markdown",
   "id": "9e58ce8f",
   "metadata": {},
   "source": [
    "Посмотрим на пропуски в столбце `chlorides`. "
   ]
  },
  {
   "cell_type": "code",
   "execution_count": 41,
   "id": "cdad5f92",
   "metadata": {},
   "outputs": [
    {
     "data": {
      "text/html": [
       "<div>\n",
       "<style scoped>\n",
       "    .dataframe tbody tr th:only-of-type {\n",
       "        vertical-align: middle;\n",
       "    }\n",
       "\n",
       "    .dataframe tbody tr th {\n",
       "        vertical-align: top;\n",
       "    }\n",
       "\n",
       "    .dataframe thead th {\n",
       "        text-align: right;\n",
       "    }\n",
       "</style>\n",
       "<table border=\"1\" class=\"dataframe\">\n",
       "  <thead>\n",
       "    <tr style=\"text-align: right;\">\n",
       "      <th></th>\n",
       "      <th>type</th>\n",
       "      <th>fixed_acidity</th>\n",
       "      <th>volatile_acidity</th>\n",
       "      <th>citric_acid</th>\n",
       "      <th>residual_sugar</th>\n",
       "      <th>chlorides</th>\n",
       "      <th>free_sulfur_dioxide</th>\n",
       "      <th>total_sulfur_dioxide</th>\n",
       "      <th>density</th>\n",
       "      <th>pH</th>\n",
       "      <th>sulphates</th>\n",
       "      <th>alcohol</th>\n",
       "      <th>quality</th>\n",
       "    </tr>\n",
       "  </thead>\n",
       "  <tbody>\n",
       "  </tbody>\n",
       "</table>\n",
       "</div>"
      ],
      "text/plain": [
       "Empty DataFrame\n",
       "Columns: [type, fixed_acidity, volatile_acidity, citric_acid, residual_sugar, chlorides, free_sulfur_dioxide, total_sulfur_dioxide, density, pH, sulphates, alcohol, quality]\n",
       "Index: []"
      ]
     },
     "execution_count": 41,
     "metadata": {},
     "output_type": "execute_result"
    }
   ],
   "source": [
    "df[df['chlorides'].isna()]"
   ]
  },
  {
   "cell_type": "markdown",
   "id": "9c3fbd84",
   "metadata": {},
   "source": [
    "Видим что пропуски содержатся по типу вина - white, а также можно заметить что значения в столбце `free sulfur dioxide` - 4, 56. Можно посчитать среднее по столбцу `free sulfur dioxide` для этих строк в 2 диапазонах: меньше 10 и от 50 до 60."
   ]
  },
  {
   "cell_type": "code",
   "execution_count": 42,
   "id": "2dfdd5b0",
   "metadata": {},
   "outputs": [
    {
     "name": "stdout",
     "output_type": "stream",
     "text": [
      "white, free_sulfur_dioxide < 10: 0.042976047904191614\n"
     ]
    }
   ],
   "source": [
    "print(\"white, free_sulfur_dioxide < 10: {}\".format(df.loc[(df['type'] == 'white') \n",
    "                                                          & (df['free_sulfur_dioxide'] < 10), 'chlorides'].mean()))"
   ]
  },
  {
   "cell_type": "code",
   "execution_count": 43,
   "id": "c2433452",
   "metadata": {},
   "outputs": [
    {
     "name": "stdout",
     "output_type": "stream",
     "text": [
      "white, free_sulfur_dioxide between 50-60: 0.047722567287784685\n"
     ]
    }
   ],
   "source": [
    "print(\"white, free_sulfur_dioxide between 50-60: {}\".format(df.loc[(df['type'] == 'white') \n",
    "                                                                   & (df['free_sulfur_dioxide'] > 50) & (df['free_sulfur_dioxide'] < 60), \n",
    "                                                                   'chlorides'].mean()))"
   ]
  },
  {
   "cell_type": "code",
   "execution_count": 44,
   "id": "0b04fd98",
   "metadata": {},
   "outputs": [],
   "source": [
    "df.loc[(df['chlorides'].isna()) & (df['type'] == 'white') & (df['free_sulfur_dioxide'] < 10), \n",
    "                                                          'chlorides'] = df.loc[(df['type'] == 'white') \n",
    "                                                          & (df['free_sulfur_dioxide'] < 10), 'chlorides'].mean()"
   ]
  },
  {
   "cell_type": "code",
   "execution_count": 45,
   "id": "cfc1ecf9",
   "metadata": {},
   "outputs": [],
   "source": [
    "df.loc[(df['chlorides'].isna()) & (df['type'] == 'white') & (df['free_sulfur_dioxide'] > 50) \n",
    "                                                          & (df['free_sulfur_dioxide'] < 60), \n",
    "                                                          'chlorides'] = df.loc[(df['type'] == 'white') \n",
    "                                                          & (df['free_sulfur_dioxide'] > 50) \n",
    "                                                          & (df['free_sulfur_dioxide'] < 60), 'chlorides'].mean()"
   ]
  },
  {
   "cell_type": "code",
   "execution_count": 46,
   "id": "176a0158",
   "metadata": {},
   "outputs": [
    {
     "data": {
      "text/plain": [
       "type                    0\n",
       "fixed_acidity           0\n",
       "volatile_acidity        0\n",
       "citric_acid             0\n",
       "residual_sugar          0\n",
       "chlorides               0\n",
       "free_sulfur_dioxide     0\n",
       "total_sulfur_dioxide    0\n",
       "density                 0\n",
       "pH                      9\n",
       "sulphates               4\n",
       "alcohol                 0\n",
       "quality                 0\n",
       "dtype: int64"
      ]
     },
     "execution_count": 46,
     "metadata": {},
     "output_type": "execute_result"
    }
   ],
   "source": [
    "# проверяем отсутствие пропусков chlorides\n",
    "df.isna().sum()"
   ]
  },
  {
   "cell_type": "code",
   "execution_count": null,
   "id": "d7058022",
   "metadata": {},
   "outputs": [],
   "source": []
  },
  {
   "cell_type": "code",
   "execution_count": null,
   "id": "f5bcbc0f",
   "metadata": {},
   "outputs": [],
   "source": []
  },
  {
   "cell_type": "code",
   "execution_count": null,
   "id": "9d45b944",
   "metadata": {},
   "outputs": [],
   "source": []
  },
  {
   "cell_type": "code",
   "execution_count": null,
   "id": "5ba189a9",
   "metadata": {},
   "outputs": [],
   "source": []
  }
 ],
 "metadata": {
  "kernelspec": {
   "display_name": "Python 3 (ipykernel)",
   "language": "python",
   "name": "python3"
  },
  "language_info": {
   "codemirror_mode": {
    "name": "ipython",
    "version": 3
   },
   "file_extension": ".py",
   "mimetype": "text/x-python",
   "name": "python",
   "nbconvert_exporter": "python",
   "pygments_lexer": "ipython3",
   "version": "3.11.5"
  }
 },
 "nbformat": 4,
 "nbformat_minor": 5
}
